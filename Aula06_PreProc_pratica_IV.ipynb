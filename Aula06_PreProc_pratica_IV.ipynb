{
 "cells": [
  {
   "cell_type": "markdown",
   "metadata": {},
   "source": [
    "## Aula 06 - Pré-Processamento - Parte IV\n",
    "\n",
    "Objetivos da prática:\n",
    "- Verificar necessidade de pré-processamento;\n",
    "- Avaliar qualidade dos dados;\n",
    "- Realizar atividades de pré-processamento.\n"
   ]
  },
  {
   "cell_type": "markdown",
   "metadata": {},
   "source": [
    "\n",
    "---\n",
    "---\n",
    "\n",
    "### Funções utilizadas na prática\n",
    "\n",
    "DataFrame\n",
    "\n",
    "- isna()\n",
    "\n",
    "- isnull()\n",
    "\n",
    "- sum(axis=None, skipna=None, level=None, numeric_only=None, min_count=0)\n",
    "\n",
    "- drop(labels=None, axis=0, index=None, columns=None, level=None, inplace=False, errors='raise')\n",
    "\n",
    "- dropna(axis=0, how='any', thresh=None, subset=None, inplace=False)\n",
    "\n",
    "- drop_duplicates(subset=None, keep='first', inplace=False)\n",
    "\n",
    "- fillna(value=None, method=None, axis=None, inplace=False, limit=None, downcast=None)\n",
    "\n",
    "- replace(to_replace=None, value=None, inplace=False, limit=None, regex=False, method='pad')"
   ]
  },
  {
   "cell_type": "markdown",
   "metadata": {},
   "source": [
    "\n",
    "---\n",
    "---\n",
    "\n",
    "\n",
    "## Prática IV\n",
    "\n",
    "\n",
    "---\n",
    "\n",
    "\n",
    "**Caso os atributos que você escolheu nas práticas anteriores não for adequado à realização da prática, escolha outros. Por exemplo, você precisará verificar se há amostras com problemas, como valor ausente, se os atributos que você escolheu não possui valors ausentes, escolha outros atributos que tenha. Caso queira e tenha tempo você também pode para todos os atributos do conjunto de dados.**\n",
    "\n",
    "Para cada conjunto escolhido na prática anterior, realizar as seguintes atividades:\n",
    "\n",
    "\n",
    "1- Reportar porcentagem de amostras com problema. Definir o que é problema no seu cenário. Problema pode ser valor ausente, inconsistente, ou outras formas que você acredita ser um problema. Especificar o problema por atributo, se você identificou problema nos atributos A e C, reportar a porcentagem de problema para cada um desses atributos.\n",
    "\n",
    "\n",
    "\n",
    "2- Argumente se você acha que esses problemas têm origem sistemática ou aleatória.\n",
    "\n",
    "\n",
    "3- Realize uma etapa de limpeza que você achar necessária. Comente as etapas realizadas. Por limpeza vide as atividades nos slides 13 em diante. Você pode achar apenas necessário fazer imputação dos dados ou então se forem poucas amostras com valores ausentes, remover essas amostras, mas sempre justifique o porque você fez isso.\n",
    "\n",
    "\n",
    "\n",
    "4- Execute a função com os classificadores ou regressores, dependendo do seu problema, antes e depois da limpeza dos dados. Comente se o classificador conseguiu executar antes da limpeza ser realizada, e se houve melhora no desempenho.\n",
    "\n",
    "Abaixo está implementada uma função que realiza a classificação/regressão para 4 modelos (reg_clas). Utilize essa função. A medida de desempenho da classificação é a acurácia (número de acertos pelo total de exemplos), e a medida da regressão é o erro quadrático médio (média da diferença ao quadrado do valor predito pelo valor real $\\displaystyle \\frac{\\sum^n_{i=1} (y_{i \\; pred} - y_{i \\; real})^2}{n} \\Big)$\n",
    "\n",
    "Se você tiver problema na execução da função tente executar apenas com colunas numéricas.\n",
    "\n"
   ]
  },
  {
   "cell_type": "code",
   "execution_count": 1,
   "metadata": {},
   "outputs": [],
   "source": [
    "from sklearn.svm import SVC, SVR\n",
    "from sklearn.tree import DecisionTreeClassifier, DecisionTreeRegressor\n",
    "from sklearn.neighbors import KNeighborsClassifier, KNeighborsRegressor\n",
    "\n",
    "from sklearn.model_selection import KFold\n",
    "from sklearn.metrics import mean_squared_error\n",
    "from numpy import mean, std\n",
    "\n",
    "\n",
    "def reg_clas(data, columns, target, regression=False):\n",
    "    \"\"\"\n",
    "    Executa classificação ou regressão do conjunto de dados passado\n",
    "    ---------------------------------------------------------------\n",
    "    data:       DataFrame. Conjunto de dados\n",
    "    columns:    Lista de inteiros. Índice das colunas utilizadas no treinamento e teste\n",
    "    target:     Inteiro. Índice da coluna alvo\n",
    "    regression: Boleano. True para realizar uma regressão e False para classificação\n",
    "    ---------------------------------------------------------------\n",
    "    Realiza a classificação/regressão em 4 modelos (SVM com kernel linear, \n",
    "    SVM com kernel polinomial de grau 3, Árvore de decisão, e knn com k=5)\n",
    "    Plot o gráfico de desempenho para cada classificador/regressor.\n",
    "    Retorna um dicionário com os classificadores/regressores treinados e as medidas de desempenho\n",
    "    \"\"\"\n",
    "    \n",
    "    # inicializa os modelos com os parâmetros solicitados\n",
    "    if regression:\n",
    "        svm_l = SVR(C=10*len(data), kernel='linear', cache_size=500, max_iter=1e6)\n",
    "        svm_n = SVR(C=10*len(data), kernel='poly', degree=3, gamma=1, coef0=1, cache_size=500, max_iter=1e6)\n",
    "        dt = DecisionTreeRegressor(criterion='mse', splitter='best', min_samples_split=int(len(data)*0.05))\n",
    "        knn = KNeighborsRegressor(n_neighbors=5, weights='uniform', algorithm='kd_tree')\n",
    "    else:\n",
    "        svm_l = SVC(C=10*len(data), kernel='linear', cache_size=500, max_iter=1e6)\n",
    "        svm_n = SVC(C=10*len(data), kernel='poly', degree=3, gamma=1, coef0=1, cache_size=500, max_iter=1e6)\n",
    "        dt = DecisionTreeClassifier(criterion='gini', splitter='best', min_samples_split=int(len(data)*0.1))\n",
    "        knn = KNeighborsClassifier(n_neighbors=5, weights='uniform', algorithm='kd_tree')\n",
    "    \n",
    "    clfs = [svm_l, svm_n, dt, knn]\n",
    "    clfs_names = ['svm_linear', 'svm_poly', 'dt', 'knn']\n",
    "    \n",
    "    # prepara validação cruzada\n",
    "    # faz divisão do dataset em 5 partes\n",
    "    cv = KFold(n_splits=5, shuffle=True)\n",
    "    \n",
    "    # itera para cada classificador fazendo treino e teste\n",
    "    results = {'svm_linear':[], 'svm_poly':[], 'dt':[], 'knn':[]}\n",
    "    for c, c_name in zip(clfs, clfs_names):\n",
    "        for train_index, test_index in cv.split(data):\n",
    "            \n",
    "            # separa conjunto de treino e de teste\n",
    "            x_train, y_train = data.iloc[train_index, columns], data.iloc[train_index, target]\n",
    "            x_test, y_test = data.iloc[test_index, columns], data.iloc[test_index, target]\n",
    "            \n",
    "            # faz o treino do modelo\n",
    "            clf = c.fit(X=x_train, y=y_train)\n",
    "            \n",
    "            # realiza predição no conjunto de teste e salva o resultado\n",
    "            if regression:\n",
    "                results[c_name].append( mean_squared_error(clf.predict(x_test), y_test) )\n",
    "            else:\n",
    "                results[c_name].append( clf.score(x_test, y_test) )\n",
    "    \n",
    "    # faz o plot de desempenho dos classificadores/regressores\n",
    "    plt.figure(figsize=(8,8))\n",
    "    plt.bar(range(1, len(clfs)+1), [mean(results[name]) for name in clfs_names], \n",
    "                                yerr=[std(results[name]) for name in clfs_names])\n",
    "    plt.xticks(range(1, len(clfs)+1), clfs_names, rotation=45)\n",
    "    title = 'Desempenho dos regressores - erro quadrático médio' if regression else \\\n",
    "            'Desempenho dos classificadores - acurácia'\n",
    "    plt.title(title)\n",
    "    plt.show()\n",
    "    \n",
    "    return {'results': results, 'clfs':clfs}\n",
    "\n"
   ]
  },
  {
   "cell_type": "code",
   "execution_count": 2,
   "metadata": {
    "scrolled": false
   },
   "outputs": [
    {
     "name": "stdout",
     "output_type": "stream",
     "text": [
      "[0, 1, 2]\n",
      "13\n"
     ]
    },
    {
     "name": "stderr",
     "output_type": "stream",
     "text": [
      "/home/ubuntu/anaconda3/lib/python3.6/site-packages/sklearn/svm/base.py:218: ConvergenceWarning: Solver terminated early (max_iter=1000000).  Consider pre-processing your data with StandardScaler or MinMaxScaler.\n",
      "  % self.max_iter, ConvergenceWarning)\n"
     ]
    },
    {
     "data": {
      "text/plain": [
       "<Figure size 800x800 with 1 Axes>"
      ]
     },
     "metadata": {},
     "output_type": "display_data"
    },
    {
     "name": "stdout",
     "output_type": "stream",
     "text": [
      "[0, 1]\n",
      "13\n"
     ]
    },
    {
     "data": {
      "text/plain": [
       "<Figure size 800x800 with 1 Axes>"
      ]
     },
     "metadata": {},
     "output_type": "display_data"
    },
    {
     "name": "stdout",
     "output_type": "stream",
     "text": [
      "{'results': {'svm_linear': [0.8055555555555556, 0.75, 0.7222222222222222, 0.7142857142857143, 0.8], 'svm_poly': [0.7222222222222222, 0.6388888888888888, 0.7222222222222222, 0.7428571428571429, 0.4857142857142857], 'dt': [0.8611111111111112, 0.6388888888888888, 0.8888888888888888, 0.8571428571428571, 0.7714285714285715], 'knn': [0.9166666666666666, 0.8055555555555556, 0.7777777777777778, 0.6, 0.8571428571428571]}, 'clfs': [SVC(C=1780, cache_size=500, class_weight=None, coef0=0.0,\n",
      "  decision_function_shape='ovr', degree=3, gamma='auto', kernel='linear',\n",
      "  max_iter=1000000.0, probability=False, random_state=None, shrinking=True,\n",
      "  tol=0.001, verbose=False), SVC(C=1780, cache_size=500, class_weight=None, coef0=1,\n",
      "  decision_function_shape='ovr', degree=3, gamma=1, kernel='poly',\n",
      "  max_iter=1000000.0, probability=False, random_state=None, shrinking=True,\n",
      "  tol=0.001, verbose=False), DecisionTreeClassifier(class_weight=None, criterion='gini', max_depth=None,\n",
      "            max_features=None, max_leaf_nodes=None,\n",
      "            min_impurity_decrease=0.0, min_impurity_split=None,\n",
      "            min_samples_leaf=1, min_samples_split=17,\n",
      "            min_weight_fraction_leaf=0.0, presort=False, random_state=None,\n",
      "            splitter='best'), KNeighborsClassifier(algorithm='kd_tree', leaf_size=30, metric='minkowski',\n",
      "           metric_params=None, n_jobs=1, n_neighbors=5, p=2,\n",
      "           weights='uniform')]}\n"
     ]
    }
   ],
   "source": [
    "# EXEMPLO DE CLASSIFICACAO\n",
    "\n",
    "import pandas as pd\n",
    "import numpy as np\n",
    "from matplotlib import pyplot as plt\n",
    "import seaborn as sns\n",
    "from sklearn import datasets\n",
    "\n",
    "wine = datasets.load_wine()\n",
    "target_names = wine['target_names']\n",
    "wine = pd.DataFrame(data= np.c_[wine['data'], wine['target']],\n",
    "                     columns= wine['feature_names'] + ['target'])\n",
    "\n",
    "target = len(wine.columns) -1\n",
    "columns = list(range(target))\n",
    "\n",
    "\n",
    "columns = [0,1,2]\n",
    "#target = 3\n",
    "dataset = wine.iloc[:, [0,1,1, target]]\n",
    "\n",
    "print(columns)\n",
    "print(target)\n",
    "\n",
    "\"\"\"\n",
    "Só precisa chamar a função reg_class com o dataset, as colunas e \n",
    "regression=True ou regression=False\n",
    "\"\"\"\n",
    "clf = reg_clas(wine, columns, target, regression=False)\n",
    "\n",
    "\n",
    "columns = [0,1]\n",
    "#target = 3\n",
    "dataset = wine.iloc[:, [0,1, target]]\n",
    "\n",
    "print(columns)\n",
    "print(target)\n",
    "\n",
    "\"\"\"\n",
    "Só precisa chamar a função reg_class com o dataset, as colunas e \n",
    "regression=True ou regression=False\n",
    "\"\"\"\n",
    "clf = reg_clas(wine, columns, target, regression=False)\n",
    "\n",
    "print(clf)"
   ]
  },
  {
   "cell_type": "code",
   "execution_count": null,
   "metadata": {},
   "outputs": [],
   "source": [
    "\n"
   ]
  },
  {
   "cell_type": "code",
   "execution_count": null,
   "metadata": {},
   "outputs": [],
   "source": []
  },
  {
   "cell_type": "code",
   "execution_count": 3,
   "metadata": {
    "scrolled": false
   },
   "outputs": [
    {
     "name": "stdout",
     "output_type": "stream",
     "text": [
      "[0, 1, 2, 3, 4, 5, 6, 7, 8, 9, 10, 11, 12]\n",
      "13\n"
     ]
    },
    {
     "name": "stderr",
     "output_type": "stream",
     "text": [
      "/home/ubuntu/anaconda3/lib/python3.6/site-packages/sklearn/svm/base.py:218: ConvergenceWarning: Solver terminated early (max_iter=1000000).  Consider pre-processing your data with StandardScaler or MinMaxScaler.\n",
      "  % self.max_iter, ConvergenceWarning)\n"
     ]
    },
    {
     "data": {
      "image/png": "[encoded data removed]",
      "text/plain": [
       "<Figure size 576x576 with 1 Axes>"
      ]
     },
     "metadata": {
      "needs_background": "light"
     },
     "output_type": "display_data"
    },
    {
     "name": "stdout",
     "output_type": "stream",
     "text": [
      "{'results': {'svm_linear': [73048.91980978686, 63.2784241703051, 6.212000653825059, 25605.469448152948, 37.8190693497331], 'svm_poly': [527.6455394762293, 30.38205302781899, 488.9046832791079, 4007496945357.547, 368.02313552530217], 'dt': [0.029513888888888888, 0.20748299319727892, 0.0617283950617284, 0.0662857142857143, 0.17142857142857143], 'knn': [0.3122222222222222, 0.39111111111111113, 0.3544444444444445, 0.3474285714285714, 0.248]}, 'clfs': [SVR(C=1780, cache_size=500, coef0=0.0, degree=3, epsilon=0.1, gamma='auto',\n",
      "  kernel='linear', max_iter=1000000.0, shrinking=True, tol=0.001,\n",
      "  verbose=False), SVR(C=1780, cache_size=500, coef0=1, degree=3, epsilon=0.1, gamma=1,\n",
      "  kernel='poly', max_iter=1000000.0, shrinking=True, tol=0.001,\n",
      "  verbose=False), DecisionTreeRegressor(criterion='mse', max_depth=None, max_features=None,\n",
      "           max_leaf_nodes=None, min_impurity_decrease=0.0,\n",
      "           min_impurity_split=None, min_samples_leaf=1,\n",
      "           min_samples_split=8, min_weight_fraction_leaf=0.0,\n",
      "           presort=False, random_state=None, splitter='best'), KNeighborsRegressor(algorithm='kd_tree', leaf_size=30, metric='minkowski',\n",
      "          metric_params=None, n_jobs=1, n_neighbors=5, p=2,\n",
      "          weights='uniform')]}\n"
     ]
    }
   ],
   "source": [
    "# EXEMPLO DE REGRESSAO\n",
    "\n",
    "boston = datasets.load_boston()\n",
    "#target_names = wine['target_names']\n",
    "boston = pd.DataFrame(data= np.c_[boston['data'], boston['target']],\n",
    "                     columns= boston['feature_names'].tolist() + ['target'])\n",
    "\n",
    "target = len(wine.columns) -1\n",
    "columns = list(range(target))\n",
    "\n",
    "print(columns)\n",
    "print(target)\n",
    "\n",
    "reg = reg_clas(wine, columns, target, regression=True)\n",
    "\n",
    "print(reg)"
   ]
  },
  {
   "cell_type": "markdown",
   "metadata": {},
   "source": [
    "\n",
    "\n",
    "\n",
    "---\n",
    "## Entrega\n",
    "A entrega da prática deve ser feita em formato de notebook do jupyter. Crie um notebook seu, nas primeiras linhas identifique os membros da dupla, salve o notebook com o nome pratica_2_nUSP1_nUSP2.\n",
    "Submeta no tidia apenas o arquivo do notebook .ipynb, não crie pastas para separar as práticas, apenas faça o upload do arquivo .ipynb\n",
    "Não precisa fazer o upload dos datasets utilizados.\n",
    "A resolução desta prática deve seguir a mesma maneira da anterior. No corpo da prática primeiro identifique qual o conjunto de dados escolhido e começe a responder as perguntas no corpo do notebook. Procure utilizar as caixas de texto para a discussão (o notebook tem caixas de texto e de código).\n",
    "\n",
    "---\n",
    "\n"
   ]
  },
  {
   "cell_type": "markdown",
   "metadata": {},
   "source": [
    "\n",
    "---\n",
    "---\n",
    "---\n",
    "### Exemplo de resolução da prática\n"
   ]
  },
  {
   "cell_type": "markdown",
   "metadata": {},
   "source": [
    "Utilizarei novo conjunto de dados\n",
    "\n",
    "Sobre hepatite"
   ]
  },
  {
   "cell_type": "code",
   "execution_count": 4,
   "metadata": {},
   "outputs": [
    {
     "ename": "FileNotFoundError",
     "evalue": "File b'./dataset_55_hepatitis.csv' does not exist",
     "output_type": "error",
     "traceback": [
      "\u001b[0;31m---------------------------------------------------------------------------\u001b[0m",
      "\u001b[0;31mFileNotFoundError\u001b[0m                         Traceback (most recent call last)",
      "\u001b[0;32m<ipython-input-4-e52da1f46bae>\u001b[0m in \u001b[0;36m<module>\u001b[0;34m()\u001b[0m\n\u001b[1;32m     11\u001b[0m \u001b[0;34m\u001b[0m\u001b[0m\n\u001b[1;32m     12\u001b[0m \u001b[0;31m# como no arquivo do dataset a string \"?\" representa o NA tive que colocar parametro na_values\u001b[0m\u001b[0;34m\u001b[0m\u001b[0;34m\u001b[0m\u001b[0m\n\u001b[0;32m---> 13\u001b[0;31m \u001b[0mhepa\u001b[0m \u001b[0;34m=\u001b[0m \u001b[0mpd\u001b[0m\u001b[0;34m.\u001b[0m\u001b[0mread_csv\u001b[0m\u001b[0;34m(\u001b[0m\u001b[0;34m'./dataset_55_hepatitis.csv'\u001b[0m\u001b[0;34m,\u001b[0m \u001b[0mdtype\u001b[0m\u001b[0;34m=\u001b[0m\u001b[0mtypes\u001b[0m\u001b[0;34m,\u001b[0m \u001b[0mna_values\u001b[0m\u001b[0;34m=\u001b[0m\u001b[0;34m'?'\u001b[0m\u001b[0;34m)\u001b[0m\u001b[0;34m\u001b[0m\u001b[0m\n\u001b[0m\u001b[1;32m     14\u001b[0m \u001b[0;34m\u001b[0m\u001b[0m\n\u001b[1;32m     15\u001b[0m \u001b[0mhepa\u001b[0m\u001b[0;34m.\u001b[0m\u001b[0mhead\u001b[0m\u001b[0;34m(\u001b[0m\u001b[0;34m)\u001b[0m\u001b[0;34m\u001b[0m\u001b[0m\n",
      "\u001b[0;32m~/anaconda3/lib/python3.6/site-packages/pandas/io/parsers.py\u001b[0m in \u001b[0;36mparser_f\u001b[0;34m(filepath_or_buffer, sep, delimiter, header, names, index_col, usecols, squeeze, prefix, mangle_dupe_cols, dtype, engine, converters, true_values, false_values, skipinitialspace, skiprows, nrows, na_values, keep_default_na, na_filter, verbose, skip_blank_lines, parse_dates, infer_datetime_format, keep_date_col, date_parser, dayfirst, iterator, chunksize, compression, thousands, decimal, lineterminator, quotechar, quoting, escapechar, comment, encoding, dialect, tupleize_cols, error_bad_lines, warn_bad_lines, skipfooter, doublequote, delim_whitespace, low_memory, memory_map, float_precision)\u001b[0m\n\u001b[1;32m    676\u001b[0m                     skip_blank_lines=skip_blank_lines)\n\u001b[1;32m    677\u001b[0m \u001b[0;34m\u001b[0m\u001b[0m\n\u001b[0;32m--> 678\u001b[0;31m         \u001b[0;32mreturn\u001b[0m \u001b[0m_read\u001b[0m\u001b[0;34m(\u001b[0m\u001b[0mfilepath_or_buffer\u001b[0m\u001b[0;34m,\u001b[0m \u001b[0mkwds\u001b[0m\u001b[0;34m)\u001b[0m\u001b[0;34m\u001b[0m\u001b[0m\n\u001b[0m\u001b[1;32m    679\u001b[0m \u001b[0;34m\u001b[0m\u001b[0m\n\u001b[1;32m    680\u001b[0m     \u001b[0mparser_f\u001b[0m\u001b[0;34m.\u001b[0m\u001b[0m__name__\u001b[0m \u001b[0;34m=\u001b[0m \u001b[0mname\u001b[0m\u001b[0;34m\u001b[0m\u001b[0m\n",
      "\u001b[0;32m~/anaconda3/lib/python3.6/site-packages/pandas/io/parsers.py\u001b[0m in \u001b[0;36m_read\u001b[0;34m(filepath_or_buffer, kwds)\u001b[0m\n\u001b[1;32m    438\u001b[0m \u001b[0;34m\u001b[0m\u001b[0m\n\u001b[1;32m    439\u001b[0m     \u001b[0;31m# Create the parser.\u001b[0m\u001b[0;34m\u001b[0m\u001b[0;34m\u001b[0m\u001b[0m\n\u001b[0;32m--> 440\u001b[0;31m     \u001b[0mparser\u001b[0m \u001b[0;34m=\u001b[0m \u001b[0mTextFileReader\u001b[0m\u001b[0;34m(\u001b[0m\u001b[0mfilepath_or_buffer\u001b[0m\u001b[0;34m,\u001b[0m \u001b[0;34m**\u001b[0m\u001b[0mkwds\u001b[0m\u001b[0;34m)\u001b[0m\u001b[0;34m\u001b[0m\u001b[0m\n\u001b[0m\u001b[1;32m    441\u001b[0m \u001b[0;34m\u001b[0m\u001b[0m\n\u001b[1;32m    442\u001b[0m     \u001b[0;32mif\u001b[0m \u001b[0mchunksize\u001b[0m \u001b[0;32mor\u001b[0m \u001b[0miterator\u001b[0m\u001b[0;34m:\u001b[0m\u001b[0;34m\u001b[0m\u001b[0m\n",
      "\u001b[0;32m~/anaconda3/lib/python3.6/site-packages/pandas/io/parsers.py\u001b[0m in \u001b[0;36m__init__\u001b[0;34m(self, f, engine, **kwds)\u001b[0m\n\u001b[1;32m    785\u001b[0m             \u001b[0mself\u001b[0m\u001b[0;34m.\u001b[0m\u001b[0moptions\u001b[0m\u001b[0;34m[\u001b[0m\u001b[0;34m'has_index_names'\u001b[0m\u001b[0;34m]\u001b[0m \u001b[0;34m=\u001b[0m \u001b[0mkwds\u001b[0m\u001b[0;34m[\u001b[0m\u001b[0;34m'has_index_names'\u001b[0m\u001b[0;34m]\u001b[0m\u001b[0;34m\u001b[0m\u001b[0m\n\u001b[1;32m    786\u001b[0m \u001b[0;34m\u001b[0m\u001b[0m\n\u001b[0;32m--> 787\u001b[0;31m         \u001b[0mself\u001b[0m\u001b[0;34m.\u001b[0m\u001b[0m_make_engine\u001b[0m\u001b[0;34m(\u001b[0m\u001b[0mself\u001b[0m\u001b[0;34m.\u001b[0m\u001b[0mengine\u001b[0m\u001b[0;34m)\u001b[0m\u001b[0;34m\u001b[0m\u001b[0m\n\u001b[0m\u001b[1;32m    788\u001b[0m \u001b[0;34m\u001b[0m\u001b[0m\n\u001b[1;32m    789\u001b[0m     \u001b[0;32mdef\u001b[0m \u001b[0mclose\u001b[0m\u001b[0;34m(\u001b[0m\u001b[0mself\u001b[0m\u001b[0;34m)\u001b[0m\u001b[0;34m:\u001b[0m\u001b[0;34m\u001b[0m\u001b[0m\n",
      "\u001b[0;32m~/anaconda3/lib/python3.6/site-packages/pandas/io/parsers.py\u001b[0m in \u001b[0;36m_make_engine\u001b[0;34m(self, engine)\u001b[0m\n\u001b[1;32m   1012\u001b[0m     \u001b[0;32mdef\u001b[0m \u001b[0m_make_engine\u001b[0m\u001b[0;34m(\u001b[0m\u001b[0mself\u001b[0m\u001b[0;34m,\u001b[0m \u001b[0mengine\u001b[0m\u001b[0;34m=\u001b[0m\u001b[0;34m'c'\u001b[0m\u001b[0;34m)\u001b[0m\u001b[0;34m:\u001b[0m\u001b[0;34m\u001b[0m\u001b[0m\n\u001b[1;32m   1013\u001b[0m         \u001b[0;32mif\u001b[0m \u001b[0mengine\u001b[0m \u001b[0;34m==\u001b[0m \u001b[0;34m'c'\u001b[0m\u001b[0;34m:\u001b[0m\u001b[0;34m\u001b[0m\u001b[0m\n\u001b[0;32m-> 1014\u001b[0;31m             \u001b[0mself\u001b[0m\u001b[0;34m.\u001b[0m\u001b[0m_engine\u001b[0m \u001b[0;34m=\u001b[0m \u001b[0mCParserWrapper\u001b[0m\u001b[0;34m(\u001b[0m\u001b[0mself\u001b[0m\u001b[0;34m.\u001b[0m\u001b[0mf\u001b[0m\u001b[0;34m,\u001b[0m \u001b[0;34m**\u001b[0m\u001b[0mself\u001b[0m\u001b[0;34m.\u001b[0m\u001b[0moptions\u001b[0m\u001b[0;34m)\u001b[0m\u001b[0;34m\u001b[0m\u001b[0m\n\u001b[0m\u001b[1;32m   1015\u001b[0m         \u001b[0;32melse\u001b[0m\u001b[0;34m:\u001b[0m\u001b[0;34m\u001b[0m\u001b[0m\n\u001b[1;32m   1016\u001b[0m             \u001b[0;32mif\u001b[0m \u001b[0mengine\u001b[0m \u001b[0;34m==\u001b[0m \u001b[0;34m'python'\u001b[0m\u001b[0;34m:\u001b[0m\u001b[0;34m\u001b[0m\u001b[0m\n",
      "\u001b[0;32m~/anaconda3/lib/python3.6/site-packages/pandas/io/parsers.py\u001b[0m in \u001b[0;36m__init__\u001b[0;34m(self, src, **kwds)\u001b[0m\n\u001b[1;32m   1706\u001b[0m         \u001b[0mkwds\u001b[0m\u001b[0;34m[\u001b[0m\u001b[0;34m'usecols'\u001b[0m\u001b[0;34m]\u001b[0m \u001b[0;34m=\u001b[0m \u001b[0mself\u001b[0m\u001b[0;34m.\u001b[0m\u001b[0musecols\u001b[0m\u001b[0;34m\u001b[0m\u001b[0m\n\u001b[1;32m   1707\u001b[0m \u001b[0;34m\u001b[0m\u001b[0m\n\u001b[0;32m-> 1708\u001b[0;31m         \u001b[0mself\u001b[0m\u001b[0;34m.\u001b[0m\u001b[0m_reader\u001b[0m \u001b[0;34m=\u001b[0m \u001b[0mparsers\u001b[0m\u001b[0;34m.\u001b[0m\u001b[0mTextReader\u001b[0m\u001b[0;34m(\u001b[0m\u001b[0msrc\u001b[0m\u001b[0;34m,\u001b[0m \u001b[0;34m**\u001b[0m\u001b[0mkwds\u001b[0m\u001b[0;34m)\u001b[0m\u001b[0;34m\u001b[0m\u001b[0m\n\u001b[0m\u001b[1;32m   1709\u001b[0m \u001b[0;34m\u001b[0m\u001b[0m\n\u001b[1;32m   1710\u001b[0m         \u001b[0mpassed_names\u001b[0m \u001b[0;34m=\u001b[0m \u001b[0mself\u001b[0m\u001b[0;34m.\u001b[0m\u001b[0mnames\u001b[0m \u001b[0;32mis\u001b[0m \u001b[0;32mNone\u001b[0m\u001b[0;34m\u001b[0m\u001b[0m\n",
      "\u001b[0;32mpandas/_libs/parsers.pyx\u001b[0m in \u001b[0;36mpandas._libs.parsers.TextReader.__cinit__\u001b[0;34m()\u001b[0m\n",
      "\u001b[0;32mpandas/_libs/parsers.pyx\u001b[0m in \u001b[0;36mpandas._libs.parsers.TextReader._setup_parser_source\u001b[0;34m()\u001b[0m\n",
      "\u001b[0;31mFileNotFoundError\u001b[0m: File b'./dataset_55_hepatitis.csv' does not exist"
     ]
    }
   ],
   "source": [
    "\n",
    "import pandas as pd\n",
    "import numpy as np\n",
    "from matplotlib import pyplot as plt\n",
    "import seaborn as sns\n",
    "from sklearn import datasets\n",
    "\n",
    "types = dict( zip(\n",
    "    [\"AGE\",\"SEX\",\"STEROID\",\"ANTIVIRALS\",\"FATIGUE\",\"MALAISE\",\"ANOREXIA\",\"LIVER_BIG\",\"LIVER_FIRM\",\"SPLEEN_PALPABLE\",\"SPIDERS\",\"ASCITES\",\"VARICES\",\"BILIRUBIN\",\"ALK_PHOSPHATE\",\"SGOT\",\"ALBUMIN\",\"PROTIME\",\"HISTOLOGY\",\"Class\"], \n",
    "    [int, np.str, str, str, str, str, str, str, str, str, str, str, str, float, float, float, float, float, str, str]))\n",
    "\n",
    "# como no arquivo do dataset a string \"?\" representa o NA tive que colocar parametro na_values\n",
    "hepa = pd.read_csv('./dataset_55_hepatitis.csv', dtype=types, na_values='?')\n",
    "\n",
    "hepa.head()\n"
   ]
  },
  {
   "cell_type": "code",
   "execution_count": null,
   "metadata": {},
   "outputs": [],
   "source": [
    "hepa.STEROID\n",
    "hepa.describe(include='all')"
   ]
  },
  {
   "cell_type": "code",
   "execution_count": null,
   "metadata": {},
   "outputs": [],
   "source": [
    "# retorna boleanos em todas as colunas se for NA\n",
    "hepa.isna()"
   ]
  },
  {
   "cell_type": "code",
   "execution_count": null,
   "metadata": {},
   "outputs": [],
   "source": []
  },
  {
   "cell_type": "markdown",
   "metadata": {},
   "source": [
    "\n",
    "\n",
    "1- Reportar porcentagem de amostras com problema. Definir o que é problema no seu cenário. Problema pode ser valor ausente, inconsistente, ou outras formas que você acredita ser um problema. Especificar o problema por atributo, se você identificou problema nos atributos A e C, reportar a porcentagem de problema para cada um desses atributos.\n",
    "\n",
    "As colunas PROTIME e ALK_PHOSPHATE têm a maioria dos NAs\n",
    "\n",
    "Esse é um conjunto de dados simples e o único problema é valor ausente.\n",
    "Como vocês fizeram uma análise exploratória nos conjunto de dados vocês já tem alguma ideia dos problemas e se o problema é outro além do valor ausente"
   ]
  },
  {
   "cell_type": "code",
   "execution_count": null,
   "metadata": {},
   "outputs": [],
   "source": [
    "# contando apenas os NA em algumas colunas\n",
    "hepa.isna().sum() / len(hepa)"
   ]
  },
  {
   "cell_type": "code",
   "execution_count": null,
   "metadata": {},
   "outputs": [],
   "source": []
  },
  {
   "cell_type": "markdown",
   "metadata": {},
   "source": [
    "2- Argumente se você acha que esses problemas têm origem sistemática ou aleatória.\n",
    "\n"
   ]
  },
  {
   "cell_type": "code",
   "execution_count": null,
   "metadata": {},
   "outputs": [],
   "source": []
  },
  {
   "cell_type": "code",
   "execution_count": null,
   "metadata": {},
   "outputs": [],
   "source": []
  },
  {
   "cell_type": "markdown",
   "metadata": {},
   "source": [
    "3- Realize uma etapa de limpeza que você achar necessária. Comente as etapas realizadas. Por limpeza vide as atividades nos slides 13 em diante. Você pode achar apenas necessário fazer imputação dos dados ou então se forem poucas amostras com valores ausentes, remover essas amostras, mas sempre justifique o porque você fez isso.\n",
    "\n",
    "\n",
    "Como a coluna PROTIME tem 43% das amostras com valor ausente escolhi por remover essa coluna.\n"
   ]
  },
  {
   "cell_type": "code",
   "execution_count": null,
   "metadata": {},
   "outputs": [],
   "source": [
    "# removendo coluna PROTIME\n",
    "# a função drop também pode ser utilizada para remover exemplos, olhar documentação\n",
    "\n",
    "hepa.drop(['PROTIME'], inplace=True, axis=1)\n",
    "\n"
   ]
  },
  {
   "cell_type": "code",
   "execution_count": null,
   "metadata": {},
   "outputs": [],
   "source": [
    "# copiando hepa\n",
    "hepa_drop_na = hepa.copy()\n",
    "\n",
    "# podemos remover todos exemplos ou atributos com na\n",
    "# aqui removerei os exemplos com qualquer campo NA\n",
    "# olhar documentação\n",
    "hepa_drop_na.dropna(axis=0, how='any', inplace=True)\n",
    "\n",
    "# podemos remover os exemplos duplicados com hepa.drop_duplicates\n",
    "\n",
    "\n",
    "print(hepa_drop_na.isna().sum())\n",
    "# o describe aparece com NA porque alguns campos não numéricos ele não consegue calcular a média ...\n",
    "hepa_drop_na.describe(include='all')\n",
    "\n"
   ]
  },
  {
   "cell_type": "code",
   "execution_count": null,
   "metadata": {},
   "outputs": [],
   "source": [
    "# copiando hepa\n",
    "hepa_fill_na1 = hepa.copy()\n",
    "hepa_fill_na2 = hepa.copy()\n",
    "hepa_fill_na3 = hepa.copy()\n",
    "\n",
    "# ao invés de remover podemos substituir os NAs com fillna, olhar documentação\n",
    "\n",
    "# substitui NA por 0\n",
    "hepa_fill_na1.fillna(value=0, axis=0, inplace=True)\n",
    "# substitui NA pela média do atributo\n",
    "hepa_fill_na2.fillna(value=hepa.mean(), axis=0, inplace=True)\n",
    "# substitui NA pela mediana do atributo\n",
    "hepa_fill_na3.fillna(value=hepa.median(), axis=0, inplace=True)\n",
    "\n",
    "print('Mediana')\n",
    "print(hepa.median())\n",
    "print()\n",
    "\n",
    "print(hepa_fill_na3.isnull().sum())\n",
    "hepa_fill_na3.describe(include='all')\n",
    "\n"
   ]
  },
  {
   "cell_type": "code",
   "execution_count": null,
   "metadata": {},
   "outputs": [],
   "source": [
    "hepa.mode(axis=0)\n",
    "\n",
    "# utilizaremos a moda, mas apenas a primeira linha "
   ]
  },
  {
   "cell_type": "code",
   "execution_count": null,
   "metadata": {},
   "outputs": [],
   "source": [
    "\n",
    "# como a função mediana só funciona para valores numéricos não foi possível substituir todas as colunas\n",
    "# mas como agora só sobraram as colunas categoricas com NA, podemos utilizar a moda\n",
    "hepa_fill_na2.fillna(value=hepa.mode(axis=0).iloc[0, :], axis=0, inplace=True)\n",
    "hepa_fill_na3.fillna(value=hepa.mode(axis=0).iloc[0, :], axis=0, inplace=True)\n",
    "\n",
    "\n",
    "print(hepa_fill_na3.isna().sum())\n",
    "hepa_fill_na3.describe(include='all')"
   ]
  },
  {
   "cell_type": "code",
   "execution_count": null,
   "metadata": {},
   "outputs": [],
   "source": []
  },
  {
   "cell_type": "markdown",
   "metadata": {},
   "source": [
    "4- Execute a função com os classificadores ou regressores, dependendo do seu problema, antes e depois da limpeza dos dados. Comente se o classificador conseguiu executar antes da limpeza ser realizada, e se houve melhora no desempenho.\n",
    "\n",
    "Como pode ser visto abaixo, o mesmo modelo de classificador obteve resultado diferente para as diferentes maneiras que tratamos o NA.\n",
    "Para os classificadores selecionados não foi possível executar com NA presente no dataset.\n",
    "\n",
    "Dependendo do seu problema você pode apenas substituir o NA por zero, mas é preciso ter alguma justificativa para tal.\n",
    "Na maioria das vezes é difícil explicar o porque dessa substituição, pelo menos de maneira geral em todas as colunas, pode ser que para alguma coluna isso faça sentido.\n",
    "Por isso também podemos substituir o NA pela média, mediana ou outra medida que você achar mais adequada ao seu problema."
   ]
  },
  {
   "cell_type": "code",
   "execution_count": null,
   "metadata": {
    "scrolled": false
   },
   "outputs": [],
   "source": [
    "data = hepa_drop_na\n",
    "target = data.shape[1] -1\n",
    "columns = list(range(target))\n",
    "reg_clas(data, columns, target, regression=False)\n",
    "\n",
    "# deu problema nas colunas não numéricas, então só vou trabalhar com as colunas numéricas"
   ]
  },
  {
   "cell_type": "code",
   "execution_count": null,
   "metadata": {
    "scrolled": false
   },
   "outputs": [],
   "source": [
    "data = hepa\n",
    "target = data.shape[1] -1\n",
    "columns = [0, 13, 14, 15, 16]\n",
    "reg_clas(data, columns, target, regression=False)"
   ]
  },
  {
   "cell_type": "code",
   "execution_count": null,
   "metadata": {
    "scrolled": false
   },
   "outputs": [],
   "source": [
    "data = hepa_drop_na\n",
    "target = data.shape[1] -1\n",
    "columns = [0, 13, 14, 15, 16]\n",
    "res = reg_clas(data, columns, target, regression=False)\n",
    "\n"
   ]
  },
  {
   "cell_type": "code",
   "execution_count": null,
   "metadata": {},
   "outputs": [],
   "source": [
    "data = hepa_fill_na1\n",
    "target = data.shape[1] -1\n",
    "columns = [0, 13, 14, 15, 16]\n",
    "res1 = reg_clas(data, columns, target, regression=False)\n",
    "\n"
   ]
  },
  {
   "cell_type": "code",
   "execution_count": null,
   "metadata": {},
   "outputs": [],
   "source": [
    "data = hepa_fill_na2\n",
    "target = data.shape[1] -1\n",
    "columns = [0, 13, 14, 15, 16]\n",
    "res2 = reg_clas(data, columns, target, regression=False)"
   ]
  },
  {
   "cell_type": "code",
   "execution_count": null,
   "metadata": {},
   "outputs": [],
   "source": [
    "data = hepa_fill_na3\n",
    "target = data.shape[1] -1\n",
    "columns = [0, 13, 14, 15, 16]\n",
    "res3 = reg_clas(data, columns, target, regression=False)"
   ]
  },
  {
   "cell_type": "code",
   "execution_count": null,
   "metadata": {},
   "outputs": [],
   "source": []
  },
  {
   "cell_type": "code",
   "execution_count": null,
   "metadata": {},
   "outputs": [],
   "source": []
  },
  {
   "cell_type": "code",
   "execution_count": null,
   "metadata": {},
   "outputs": [],
   "source": []
  },
  {
   "cell_type": "code",
   "execution_count": null,
   "metadata": {},
   "outputs": [],
   "source": []
  }
 ],
 "metadata": {
  "kernelspec": {
   "display_name": "Python 3",
   "language": "python",
   "name": "python3"
  },
  "language_info": {
   "codemirror_mode": {
    "name": "ipython",
    "version": 3
   },
   "file_extension": ".py",
   "mimetype": "text/x-python",
   "name": "python",
   "nbconvert_exporter": "python",
   "pygments_lexer": "ipython3",
   "version": "3.6.4"
  }
 },
 "nbformat": 4,
 "nbformat_minor": 2
}
